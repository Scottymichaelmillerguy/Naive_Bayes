{
  "nbformat": 4,
  "nbformat_minor": 0,
  "metadata": {
    "colab": {
      "provenance": [],
      "authorship_tag": "ABX9TyNoaCl8NTHS2u15O/yrzJGY",
      "include_colab_link": true
    },
    "kernelspec": {
      "name": "python3",
      "display_name": "Python 3"
    },
    "language_info": {
      "name": "python"
    }
  },
  "cells": [
    {
      "cell_type": "markdown",
      "metadata": {
        "id": "view-in-github",
        "colab_type": "text"
      },
      "source": [
        "<a href=\"https://colab.research.google.com/github/Scottymichaelmillerguy/Naive_Bayes/blob/main/bernoulli_naive_bayes.ipynb\" target=\"_parent\"><img src=\"https://colab.research.google.com/assets/colab-badge.svg\" alt=\"Open In Colab\"/></a>"
      ]
    },
    {
      "cell_type": "markdown",
      "source": [
        "# Bernouilli Naive Bayes"
      ],
      "metadata": {
        "id": "DrVb8S6VoVC4"
      }
    },
    {
      "cell_type": "markdown",
      "source": [
        "## From ML Algorithms to GenAI & LLMs by Aman Kharwal"
      ],
      "metadata": {
        "id": "inD-N3xEoZvJ"
      }
    },
    {
      "cell_type": "markdown",
      "source": [
        "Here is an implementation of the Bernoulli Naive Bayes algorithm using Python"
      ],
      "metadata": {
        "id": "KhhpJgNCooMf"
      }
    },
    {
      "cell_type": "code",
      "execution_count": 2,
      "metadata": {
        "id": "G1amEv4SoRyq"
      },
      "outputs": [],
      "source": [
        "from sklearn.datasets import make_classification\n",
        "from sklearn.model_selection import train_test_split\n",
        "from sklearn.naive_bayes import BernoulliNB\n",
        "from sklearn.metrics import accuracy_score\n",
        "\n",
        "# Generate a synthetic dataset with 1000 samples and 20 features\n",
        "X, y = make_classification(n_samples = 1000, n_features = 20,\n",
        "n_informative = 10, n_redundant = 5, random_state = 42)\n",
        "\n",
        "# Split the dataset into training and testing sets\n",
        "X_train, X_test, y_train, y_test = train_test_split(X, y, test_size = 0.2,\n",
        "random_state = 42)\n",
        "\n",
        "# Create a Bernoulli Naive Bayes classifier object\n",
        "clf = BernoulliNB()\n",
        "\n",
        "# Train the classifier on the training data\n",
        "clf.fit(X_train, y_train)\n",
        "\n",
        "# Make predictions on the test data\n",
        "y_pred = clf.predict(X_test)"
      ]
    },
    {
      "cell_type": "code",
      "source": [],
      "metadata": {
        "id": "8XRS7UdmrOJm"
      },
      "execution_count": null,
      "outputs": []
    }
  ]
}