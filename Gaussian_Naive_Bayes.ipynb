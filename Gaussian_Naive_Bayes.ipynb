{
  "nbformat": 4,
  "nbformat_minor": 0,
  "metadata": {
    "colab": {
      "provenance": [],
      "authorship_tag": "ABX9TyPkgTkZUdedZef3rzATnbjB",
      "include_colab_link": true
    },
    "kernelspec": {
      "name": "python3",
      "display_name": "Python 3"
    },
    "language_info": {
      "name": "python"
    }
  },
  "cells": [
    {
      "cell_type": "markdown",
      "metadata": {
        "id": "view-in-github",
        "colab_type": "text"
      },
      "source": [
        "<a href=\"https://colab.research.google.com/github/Scottymichaelmillerguy/Naive_Bayes/blob/main/Gaussian_Naive_Bayes.ipynb\" target=\"_parent\"><img src=\"https://colab.research.google.com/assets/colab-badge.svg\" alt=\"Open In Colab\"/></a>"
      ]
    },
    {
      "cell_type": "markdown",
      "source": [
        "# Gaussian Naive Bayes"
      ],
      "metadata": {
        "id": "Z0ik5QWNd4CO"
      }
    },
    {
      "cell_type": "markdown",
      "source": [
        "## From ML Algorithms to GenAI & LLMs by Aman Kharwal"
      ],
      "metadata": {
        "id": "HBSImvkTeC1Y"
      }
    },
    {
      "cell_type": "markdown",
      "source": [
        "To demonstrate the implementation of Gaussian Naive Bayes using Python, we will use a dataset from the scikit-learn library"
      ],
      "metadata": {
        "id": "FfMROOIyeMYz"
      }
    },
    {
      "cell_type": "code",
      "execution_count": 2,
      "metadata": {
        "colab": {
          "base_uri": "https://localhost:8080/"
        },
        "id": "Xl9MwstCdmVt",
        "outputId": "0eb98f5f-1f56-4103-c991-d5a8f40979a0"
      },
      "outputs": [
        {
          "output_type": "stream",
          "name": "stdout",
          "text": [
            "Accuracy: 0.84\n"
          ]
        }
      ],
      "source": [
        "from sklearn.datasets import make_classification\n",
        "from sklearn.model_selection import train_test_split\n",
        "from sklearn.naive_bayes import GaussianNB\n",
        "from sklearn.metrics import accuracy_score\n",
        "\n",
        "#Generate a synthetic dataset iwth normally distributed features\n",
        "X, y = make_classification(n_samples = 1000, n_features = 4, n_informative = 2, n_redundant = 2, random_state = 42)\n",
        "\n",
        "# Split the dataset into training and testing sets\n",
        "X_train, X_test, y_train, y_test = train_test_split(X, y, test_size = 0.2, random_state = 42)\n",
        "\n",
        "# Create an instance of the Gaussian Naive Bayes classifier\n",
        "gnb = GaussianNB()\n",
        "\n",
        "# Train the model on the training data\n",
        "gnb.fit(X_train, y_train)\n",
        "\n",
        "# Make predicitons on the testing data\n",
        "y_pred = gnb.predict(X_test)\n",
        "\n",
        "# Calculate the accuracy of the model\n",
        "accuracy = accuracy_score(y_test, y_pred)\n",
        "print(\"Accuracy:\", accuracy)"
      ]
    },
    {
      "cell_type": "code",
      "source": [],
      "metadata": {
        "id": "fa2gxzbJgUK5"
      },
      "execution_count": null,
      "outputs": []
    }
  ]
}