{
  "nbformat": 4,
  "nbformat_minor": 0,
  "metadata": {
    "colab": {
      "provenance": [],
      "authorship_tag": "ABX9TyPQr6MGjjxxmoXSD9ZorHVJ",
      "include_colab_link": true
    },
    "kernelspec": {
      "name": "python3",
      "display_name": "Python 3"
    },
    "language_info": {
      "name": "python"
    }
  },
  "cells": [
    {
      "cell_type": "markdown",
      "metadata": {
        "id": "view-in-github",
        "colab_type": "text"
      },
      "source": [
        "<a href=\"https://colab.research.google.com/github/Scottymichaelmillerguy/Naive_Bayes/blob/main/Multinomial_Naive_Bayes.ipynb\" target=\"_parent\"><img src=\"https://colab.research.google.com/assets/colab-badge.svg\" alt=\"Open In Colab\"/></a>"
      ]
    },
    {
      "cell_type": "markdown",
      "source": [
        "# Multinomial Naive Bayes"
      ],
      "metadata": {
        "id": "LCm7BIzLhOmz"
      }
    },
    {
      "cell_type": "markdown",
      "source": [
        "## From ML Algorithms to GenAI by Aman Kharwal"
      ],
      "metadata": {
        "id": "y_hxsS5UhVRy"
      }
    },
    {
      "cell_type": "markdown",
      "source": [
        "To demonstrate the implementation of Multinomial Naive Bayes using Python, we will use a dataset from the scikit-learn library."
      ],
      "metadata": {
        "id": "IL2W9se7haFG"
      }
    },
    {
      "cell_type": "code",
      "execution_count": 2,
      "metadata": {
        "id": "Wttkg7JAhJLu"
      },
      "outputs": [],
      "source": [
        "from sklearn.datasets import fetch_20newsgroups\n",
        "from sklearn.feature_extraction.text import CountVectorizer\n",
        "from sklearn.model_selection import train_test_split\n",
        "from sklearn.naive_bayes import MultinomialNB\n",
        "from sklearn.metrics import accuracy_score\n",
        "\n",
        "# Load the dataset\n",
        "data = fetch_20newsgroups(subset='all')\n",
        "\n",
        "# Extract the features from the dataset\n",
        "vectorizer = CountVectorizer()\n",
        "X = vectorizer.fit_transform(data.data)\n",
        "y = data.target\n",
        "\n",
        "# Split the dataset into training and testing sets\n",
        "X_train, X_test, y_train, y_test = train_test_split(X, y, test_size = 0.2, random_state = 42)"
      ]
    },
    {
      "cell_type": "markdown",
      "source": [
        "In the code above, we used the CountVectorizer class which you may not be familiar with. This class converts textual data into a matrix of token counts, where each row cprresponds to a document and each column represents the count of a specific word in that document. This step is essential to transform the textual data into a format suitable for Multinomial Naive Bayes."
      ],
      "metadata": {
        "id": "fKh9p1JhiciX"
      }
    },
    {
      "cell_type": "markdown",
      "source": [
        "Now lets train and evaluate the Multinomial naive Bayes classifier on our dataset"
      ],
      "metadata": {
        "id": "m8PM8Bidl6fe"
      }
    },
    {
      "cell_type": "code",
      "source": [
        "# Create an instance of the Multinomial Naive Bayues classifier\n",
        "mnb = MultinomialNB()\n",
        "\n",
        "# Train the model on the training data\n",
        "mnb.fit(X_train, y_train)\n",
        "\n",
        "# Make predictions on the testing data\n",
        "y_pred = mnb.predict(X_test)\n",
        "\n",
        "# Calculate the accuracy of the model\n",
        "accuracy = accuracy_score(y_test, y_pred)\n",
        "print(\"Accuracy:\", accuracy)"
      ],
      "metadata": {
        "colab": {
          "base_uri": "https://localhost:8080/"
        },
        "id": "akZb6rEpipBo",
        "outputId": "50e996e1-67af-42e2-e557-659b16902a32"
      },
      "execution_count": 3,
      "outputs": [
        {
          "output_type": "stream",
          "name": "stdout",
          "text": [
            "Accuracy: 0.8503978779840848\n"
          ]
        }
      ]
    },
    {
      "cell_type": "code",
      "source": [],
      "metadata": {
        "id": "as6feJ22ib33"
      },
      "execution_count": null,
      "outputs": []
    }
  ]
}